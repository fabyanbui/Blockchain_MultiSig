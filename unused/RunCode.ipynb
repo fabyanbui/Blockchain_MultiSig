{
 "cells": [
  {
   "cell_type": "code",
   "execution_count": null,
   "metadata": {},
   "outputs": [],
   "source": [
    "# !pip install streamlit ecdsa"
   ]
  },
  {
   "cell_type": "code",
   "execution_count": null,
   "metadata": {},
   "outputs": [
    {
     "name": "stdout",
     "output_type": "stream",
     "text": [
      "\u001b[0m\n",
      "\u001b[34m\u001b[1m  You can now view your Streamlit app in your browser.\u001b[0m\n",
      "\u001b[0m\n",
      "\u001b[34m  Local URL: \u001b[0m\u001b[1mhttp://localhost:8501\u001b[0m\n",
      "\u001b[34m  Network URL: \u001b[0m\u001b[1mhttp://172.31.70.99:8501\u001b[0m\n",
      "\u001b[0m\n",
      "gio: http://localhost:8501: Operation not supported\n",
      "2025-02-17 17:31:33.656 Uncaught app exception\n",
      "Traceback (most recent call last):\n",
      "  File \"/home/fabydinhbao/drive/venv/lib/python3.12/site-packages/streamlit/runtime/scriptrunner/script_runner.py\", line 534, in _run_script\n",
      "    exec(code, module.__dict__)\n",
      "  File \"/home/fabydinhbao/drive/C_Vol/BlockChain/MultiSig/multisig_app.py\", line 70, in <module>\n",
      "    if verify_signature(public_keys[i], message, st.session_state.signatures[i]):\n",
      "       ^^^^^^^^^^^^^^^^^^^^^^^^^^^^^^^^^^^^^^^^^^^^^^^^^^^^^^^^^^^^^^^^^^^^^^^^^\n",
      "  File \"/home/fabydinhbao/drive/C_Vol/BlockChain/MultiSig/multisig_app.py\", line 21, in verify_signature\n",
      "    return public_key.verify(signature, message.encode())\n",
      "           ^^^^^^^^^^^^^^^^^^^^^^^^^^^^^^^^^^^^^^^^^^^^^^\n",
      "  File \"/home/fabydinhbao/drive/venv/lib/python3.12/site-packages/ecdsa/keys.py\", line 685, in verify\n",
      "    return self.verify_digest(signature, digest, sigdecode, allow_truncate)\n",
      "           ^^^^^^^^^^^^^^^^^^^^^^^^^^^^^^^^^^^^^^^^^^^^^^^^^^^^^^^^^^^^^^^^\n",
      "  File \"/home/fabydinhbao/drive/venv/lib/python3.12/site-packages/ecdsa/keys.py\", line 741, in verify_digest\n",
      "    raise BadSignatureError(\"Signature verification failed\")\n",
      "ecdsa.keys.BadSignatureError: Signature verification failed\n",
      "2025-02-17 17:31:43.613 Uncaught app exception\n",
      "Traceback (most recent call last):\n",
      "  File \"/home/fabydinhbao/drive/venv/lib/python3.12/site-packages/streamlit/runtime/scriptrunner/script_runner.py\", line 534, in _run_script\n",
      "    exec(code, module.__dict__)\n",
      "  File \"/home/fabydinhbao/drive/C_Vol/BlockChain/MultiSig/multisig_app.py\", line 70, in <module>\n",
      "    if verify_signature(public_keys[i], message, st.session_state.signatures[i]):\n",
      "       ^^^^^^^^^^^^^^^^^^^^^^^^^^^^^^^^^^^^^^^^^^^^^^^^^^^^^^^^^^^^^^^^^^^^^^^^^\n",
      "  File \"/home/fabydinhbao/drive/C_Vol/BlockChain/MultiSig/multisig_app.py\", line 21, in verify_signature\n",
      "    return public_key.verify(signature, message.encode())\n",
      "           ^^^^^^^^^^^^^^^^^^^^^^^^^^^^^^^^^^^^^^^^^^^^^^\n",
      "  File \"/home/fabydinhbao/drive/venv/lib/python3.12/site-packages/ecdsa/keys.py\", line 685, in verify\n",
      "    return self.verify_digest(signature, digest, sigdecode, allow_truncate)\n",
      "           ^^^^^^^^^^^^^^^^^^^^^^^^^^^^^^^^^^^^^^^^^^^^^^^^^^^^^^^^^^^^^^^^\n",
      "  File \"/home/fabydinhbao/drive/venv/lib/python3.12/site-packages/ecdsa/keys.py\", line 741, in verify_digest\n",
      "    raise BadSignatureError(\"Signature verification failed\")\n",
      "ecdsa.keys.BadSignatureError: Signature verification failed\n",
      "2025-02-17 17:32:07.398 Uncaught app exception\n",
      "Traceback (most recent call last):\n",
      "  File \"/home/fabydinhbao/drive/venv/lib/python3.12/site-packages/streamlit/runtime/scriptrunner/script_runner.py\", line 534, in _run_script\n",
      "    exec(code, module.__dict__)\n",
      "  File \"/home/fabydinhbao/drive/C_Vol/BlockChain/MultiSig/multisig_app.py\", line 70, in <module>\n",
      "    if verify_signature(public_keys[i], message, st.session_state.signatures[i]):\n",
      "       ^^^^^^^^^^^^^^^^^^^^^^^^^^^^^^^^^^^^^^^^^^^^^^^^^^^^^^^^^^^^^^^^^^^^^^^^^\n",
      "  File \"/home/fabydinhbao/drive/C_Vol/BlockChain/MultiSig/multisig_app.py\", line 21, in verify_signature\n",
      "    return public_key.verify(signature, message.encode())\n",
      "           ^^^^^^^^^^^^^^^^^^^^^^^^^^^^^^^^^^^^^^^^^^^^^^\n",
      "  File \"/home/fabydinhbao/drive/venv/lib/python3.12/site-packages/ecdsa/keys.py\", line 685, in verify\n",
      "    return self.verify_digest(signature, digest, sigdecode, allow_truncate)\n",
      "           ^^^^^^^^^^^^^^^^^^^^^^^^^^^^^^^^^^^^^^^^^^^^^^^^^^^^^^^^^^^^^^^^\n",
      "  File \"/home/fabydinhbao/drive/venv/lib/python3.12/site-packages/ecdsa/keys.py\", line 741, in verify_digest\n",
      "    raise BadSignatureError(\"Signature verification failed\")\n",
      "ecdsa.keys.BadSignatureError: Signature verification failed\n",
      "2025-02-17 17:33:31.641 Uncaught app exception\n",
      "Traceback (most recent call last):\n",
      "  File \"/home/fabydinhbao/drive/venv/lib/python3.12/site-packages/streamlit/runtime/scriptrunner/script_runner.py\", line 534, in _run_script\n",
      "    exec(code, module.__dict__)\n",
      "  File \"/home/fabydinhbao/drive/C_Vol/BlockChain/MultiSig/multisig_app.py\", line 70, in <module>\n",
      "    if verify_signature(public_keys[i], message, st.session_state.signatures[i]):\n",
      "       ^^^^^^^^^^^^^^^^^^^^^^^^^^^^^^^^^^^^^^^^^^^^^^^^^^^^^^^^^^^^^^^^^^^^^^^^^\n",
      "  File \"/home/fabydinhbao/drive/C_Vol/BlockChain/MultiSig/multisig_app.py\", line 21, in verify_signature\n",
      "    return public_key.verify(signature, message.encode())\n",
      "           ^^^^^^^^^^^^^^^^^^^^^^^^^^^^^^^^^^^^^^^^^^^^^^\n",
      "  File \"/home/fabydinhbao/drive/venv/lib/python3.12/site-packages/ecdsa/keys.py\", line 685, in verify\n",
      "    return self.verify_digest(signature, digest, sigdecode, allow_truncate)\n",
      "           ^^^^^^^^^^^^^^^^^^^^^^^^^^^^^^^^^^^^^^^^^^^^^^^^^^^^^^^^^^^^^^^^\n",
      "  File \"/home/fabydinhbao/drive/venv/lib/python3.12/site-packages/ecdsa/keys.py\", line 741, in verify_digest\n",
      "    raise BadSignatureError(\"Signature verification failed\")\n",
      "ecdsa.keys.BadSignatureError: Signature verification failed\n"
     ]
    }
   ],
   "source": [
    "!streamlit run multisig_app.py"
   ]
  }
 ],
 "metadata": {
  "kernelspec": {
   "display_name": "venv",
   "language": "python",
   "name": "python3"
  },
  "language_info": {
   "codemirror_mode": {
    "name": "ipython",
    "version": 3
   },
   "file_extension": ".py",
   "mimetype": "text/x-python",
   "name": "python",
   "nbconvert_exporter": "python",
   "pygments_lexer": "ipython3",
   "version": "3.12.3"
  }
 },
 "nbformat": 4,
 "nbformat_minor": 2
}
